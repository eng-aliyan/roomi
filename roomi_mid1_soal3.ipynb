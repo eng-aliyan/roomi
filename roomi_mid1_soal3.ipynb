{
 "cells": [
  {
   "cell_type": "markdown",
   "id": "working-failure",
   "metadata": {},
   "source": [
    "# import"
   ]
  },
  {
   "cell_type": "code",
   "execution_count": 38,
   "id": "formal-simulation",
   "metadata": {},
   "outputs": [],
   "source": [
    "from sympy import *"
   ]
  },
  {
   "cell_type": "code",
   "execution_count": 39,
   "id": "surprised-institute",
   "metadata": {},
   "outputs": [],
   "source": [
    "# Vars:\n",
    "a = 5\n",
    "b = 2\n",
    "rt = a+b+2"
   ]
  },
  {
   "cell_type": "markdown",
   "id": "resistant-norman",
   "metadata": {},
   "source": [
    "# symbols"
   ]
  },
  {
   "cell_type": "code",
   "execution_count": 40,
   "id": "scientific-breath",
   "metadata": {},
   "outputs": [],
   "source": [
    "z, i, r, PI, NPI, w, k, one, two, fourtheen = symbols('z i r π -π w k 1 2 14')\n",
    "teta, alpha = symbols('θ α')"
   ]
  },
  {
   "cell_type": "markdown",
   "id": "entire-frederick",
   "metadata": {},
   "source": [
    "# init"
   ]
  },
  {
   "cell_type": "code",
   "execution_count": 41,
   "id": "objective-concord",
   "metadata": {},
   "outputs": [],
   "source": [
    "init_printing()"
   ]
  },
  {
   "cell_type": "markdown",
   "id": "minimal-purse",
   "metadata": {},
   "source": [
    "# ---------------------------------------------------------------------------"
   ]
  },
  {
   "cell_type": "code",
   "execution_count": 42,
   "id": "criminal-junior",
   "metadata": {},
   "outputs": [
    {
     "data": {
      "text/latex": [
       "$\\displaystyle z = 1 - i$"
      ],
      "text/plain": [
       "z = 1 - i"
      ]
     },
     "execution_count": 42,
     "metadata": {},
     "output_type": "execute_result"
    }
   ],
   "source": [
    "Eq(z, 1-i)"
   ]
  },
  {
   "cell_type": "markdown",
   "id": "interracial-lebanon",
   "metadata": {},
   "source": [
    "## so:"
   ]
  },
  {
   "cell_type": "code",
   "execution_count": 43,
   "id": "legitimate-horse",
   "metadata": {},
   "outputs": [
    {
     "data": {
      "text/latex": [
       "$\\displaystyle \\tan{\\left(θ \\right)} = -1$"
      ],
      "text/plain": [
       "tan(θ) = -1"
      ]
     },
     "execution_count": 43,
     "metadata": {},
     "output_type": "execute_result"
    }
   ],
   "source": [
    "Eq(tan(teta), -1)"
   ]
  },
  {
   "cell_type": "markdown",
   "id": "reported-adelaide",
   "metadata": {},
   "source": [
    "## so:"
   ]
  },
  {
   "cell_type": "code",
   "execution_count": 45,
   "id": "medieval-adoption",
   "metadata": {},
   "outputs": [
    {
     "data": {
      "text/latex": [
       "$\\displaystyle θ = - \\frac{π}{4}$"
      ],
      "text/plain": [
       "    -π \n",
       "θ = ───\n",
       "     4 "
      ]
     },
     "execution_count": 45,
     "metadata": {},
     "output_type": "execute_result"
    }
   ],
   "source": [
    "Eq(teta, -(PI/4))"
   ]
  },
  {
   "cell_type": "markdown",
   "id": "experimental-church",
   "metadata": {},
   "source": [
    "## and:"
   ]
  },
  {
   "cell_type": "code",
   "execution_count": 46,
   "id": "solar-association",
   "metadata": {},
   "outputs": [
    {
     "data": {
      "text/latex": [
       "$\\displaystyle \\left|{z}\\right| = \\sqrt{2}$"
      ],
      "text/plain": [
       "│z│ = √2"
      ]
     },
     "execution_count": 46,
     "metadata": {},
     "output_type": "execute_result"
    }
   ],
   "source": [
    "Eq(abs(z), sqrt(2))"
   ]
  },
  {
   "cell_type": "markdown",
   "id": "boring-authority",
   "metadata": {},
   "source": [
    "## so:"
   ]
  },
  {
   "cell_type": "code",
   "execution_count": 47,
   "id": "twenty-editing",
   "metadata": {},
   "outputs": [
    {
     "data": {
      "text/latex": [
       "$\\displaystyle z = \\sqrt{2} \\left(i \\sin{\\left(\\frac{-π}{4} \\right)} + \\cos{\\left(\\frac{-π}{4} \\right)}\\right)$"
      ],
      "text/plain": [
       "       ⎛     ⎛-π⎞      ⎛-π⎞⎞\n",
       "z = √2⋅⎜i⋅sin⎜──⎟ + cos⎜──⎟⎟\n",
       "       ⎝     ⎝4 ⎠      ⎝4 ⎠⎠"
      ]
     },
     "execution_count": 47,
     "metadata": {},
     "output_type": "execute_result"
    }
   ],
   "source": [
    "Eq(z, sqrt(2)*(cos(NPI/4) + i*sin(NPI/4)))"
   ]
  },
  {
   "cell_type": "markdown",
   "id": "happy-correlation",
   "metadata": {},
   "source": [
    "## so:"
   ]
  },
  {
   "cell_type": "code",
   "execution_count": 48,
   "id": "ultimate-completion",
   "metadata": {},
   "outputs": [
    {
     "data": {
      "text/latex": [
       "$\\displaystyle w = r \\left(i \\sin{\\left(α \\right)} + \\cos{\\left(α \\right)}\\right)$"
      ],
      "text/plain": [
       "w = r⋅(i⋅sin(α) + cos(α))"
      ]
     },
     "execution_count": 48,
     "metadata": {},
     "output_type": "execute_result"
    }
   ],
   "source": [
    "Eq(w, r*(cos(alpha)+i*sin(alpha)))"
   ]
  },
  {
   "cell_type": "markdown",
   "id": "heavy-solid",
   "metadata": {},
   "source": [
    "## so:"
   ]
  },
  {
   "cell_type": "code",
   "execution_count": 49,
   "id": "adaptive-turkey",
   "metadata": {},
   "outputs": [
    {
     "data": {
      "text/latex": [
       "$\\displaystyle w^{9} = r^{9} \\left(i \\sin{\\left(9 α \\right)} + \\cos{\\left(9 α \\right)}\\right)$"
      ],
      "text/plain": [
       " 9    9                        \n",
       "w  = r ⋅(i⋅sin(9⋅α) + cos(9⋅α))"
      ]
     },
     "execution_count": 49,
     "metadata": {},
     "output_type": "execute_result"
    }
   ],
   "source": [
    "Eq(w**rt, r**rt*(cos(rt*alpha)+i*sin(rt*alpha)))"
   ]
  },
  {
   "cell_type": "markdown",
   "id": "ahead-puzzle",
   "metadata": {},
   "source": [
    "## eq:"
   ]
  },
  {
   "cell_type": "code",
   "execution_count": 50,
   "id": "pacific-handle",
   "metadata": {},
   "outputs": [
    {
     "data": {
      "text/latex": [
       "$\\displaystyle \\sqrt{2} \\left(i \\sin{\\left(\\frac{-π}{4} \\right)} + \\cos{\\left(\\frac{-π}{4} \\right)}\\right)$"
      ],
      "text/plain": [
       "   ⎛     ⎛-π⎞      ⎛-π⎞⎞\n",
       "√2⋅⎜i⋅sin⎜──⎟ + cos⎜──⎟⎟\n",
       "   ⎝     ⎝4 ⎠      ⎝4 ⎠⎠"
      ]
     },
     "execution_count": 50,
     "metadata": {},
     "output_type": "execute_result"
    }
   ],
   "source": [
    "sqrt(2)*(cos(NPI/4) + i*sin(NPI/4))"
   ]
  },
  {
   "cell_type": "code",
   "execution_count": 51,
   "id": "joined-cargo",
   "metadata": {},
   "outputs": [
    {
     "data": {
      "text/latex": [
       "$\\displaystyle r^{9} = \\sqrt{2}$"
      ],
      "text/plain": [
       " 9     \n",
       "r  = √2"
      ]
     },
     "execution_count": 51,
     "metadata": {},
     "output_type": "execute_result"
    }
   ],
   "source": [
    "Eq(r**rt, sqrt(2))"
   ]
  },
  {
   "cell_type": "markdown",
   "id": "filled-duncan",
   "metadata": {},
   "source": [
    "## so:"
   ]
  },
  {
   "cell_type": "code",
   "execution_count": 52,
   "id": "miniature-layout",
   "metadata": {},
   "outputs": [
    {
     "data": {
      "text/latex": [
       "$\\displaystyle r = \\sqrt[18]{2}$"
      ],
      "text/plain": [
       "    18___\n",
       "r = ╲╱ 2 "
      ]
     },
     "execution_count": 52,
     "metadata": {},
     "output_type": "execute_result"
    }
   ],
   "source": [
    "Eq(r, root(2, 2*rt))"
   ]
  },
  {
   "cell_type": "markdown",
   "id": "aware-auckland",
   "metadata": {},
   "source": [
    "## and:"
   ]
  },
  {
   "cell_type": "code",
   "execution_count": 53,
   "id": "oriental-bouquet",
   "metadata": {},
   "outputs": [
    {
     "data": {
      "text/latex": [
       "$\\displaystyle θ = \\frac{2 k π}{9} - \\frac{π}{36}$"
      ],
      "text/plain": [
       "    2⋅k⋅π   π \n",
       "θ = ───── - ──\n",
       "      9     36"
      ]
     },
     "execution_count": 53,
     "metadata": {},
     "output_type": "execute_result"
    }
   ],
   "source": [
    "Eq(teta, ((2*k*PI)-(PI/4))/(rt))"
   ]
  },
  {
   "cell_type": "markdown",
   "id": "altered-bangladesh",
   "metadata": {},
   "source": [
    "## so:"
   ]
  },
  {
   "cell_type": "code",
   "execution_count": 54,
   "id": "earlier-colors",
   "metadata": {},
   "outputs": [
    {
     "data": {
      "text/latex": [
       "$\\displaystyle w = \\sqrt[18]{2} \\left(i \\sin{\\left(\\frac{-π}{36} + \\frac{2 k π}{9} \\right)} + \\cos{\\left(\\frac{-π}{36} + \\frac{2 k π}{9} \\right)}\\right)$"
      ],
      "text/plain": [
       "    18___ ⎛     ⎛-π   2⋅k⋅π⎞      ⎛-π   2⋅k⋅π⎞⎞\n",
       "w = ╲╱ 2 ⋅⎜i⋅sin⎜── + ─────⎟ + cos⎜── + ─────⎟⎟\n",
       "          ⎝     ⎝36     9  ⎠      ⎝36     9  ⎠⎠"
      ]
     },
     "execution_count": 54,
     "metadata": {},
     "output_type": "execute_result"
    }
   ],
   "source": [
    "wk = root(2, 2*rt)*((cos((2*k*PI+(NPI/4))/(rt)))+i*(sin((2*k*PI+(NPI/4))/(rt))))\n",
    "Eq(w, root(2, 2*rt)*((cos((2*k*PI+(NPI/4))/(rt)))+i*(sin((2*k*PI+(NPI/4))/(rt)))))"
   ]
  },
  {
   "cell_type": "markdown",
   "id": "likely-generic",
   "metadata": {},
   "source": [
    "# ---------------------------------------------------------------------------"
   ]
  },
  {
   "cell_type": "code",
   "execution_count": 55,
   "id": "senior-graphics",
   "metadata": {},
   "outputs": [
    {
     "data": {
      "text/latex": [
       "$\\displaystyle w = \\sqrt[18]{2} \\left(i \\sin{\\left(\\frac{-π}{36} \\right)} + \\cos{\\left(\\frac{-π}{36} \\right)}\\right)$"
      ],
      "text/plain": [
       "    18___ ⎛     ⎛-π⎞      ⎛-π⎞⎞\n",
       "w = ╲╱ 2 ⋅⎜i⋅sin⎜──⎟ + cos⎜──⎟⎟\n",
       "          ⎝     ⎝36⎠      ⎝36⎠⎠"
      ]
     },
     "execution_count": 55,
     "metadata": {},
     "output_type": "execute_result"
    }
   ],
   "source": [
    "Eq(w, root(2, 2*rt)*((cos((2*0*PI+(NPI/4))/(rt)))+i*(sin((2*0*PI+(NPI/4))/(rt)))))"
   ]
  },
  {
   "cell_type": "code",
   "execution_count": 56,
   "id": "monetary-weather",
   "metadata": {},
   "outputs": [
    {
     "data": {
      "text/latex": [
       "$\\displaystyle w = \\sqrt[18]{2} \\left(i \\sin{\\left(\\frac{-π}{36} + \\frac{2 π}{9} \\right)} + \\cos{\\left(\\frac{-π}{36} + \\frac{2 π}{9} \\right)}\\right)$"
      ],
      "text/plain": [
       "    18___ ⎛     ⎛-π   2⋅π⎞      ⎛-π   2⋅π⎞⎞\n",
       "w = ╲╱ 2 ⋅⎜i⋅sin⎜── + ───⎟ + cos⎜── + ───⎟⎟\n",
       "          ⎝     ⎝36    9 ⎠      ⎝36    9 ⎠⎠"
      ]
     },
     "execution_count": 56,
     "metadata": {},
     "output_type": "execute_result"
    }
   ],
   "source": [
    "Eq(w, root(2, 2*rt)*((cos((2*1*PI+(NPI/4))/(rt)))+i*(sin((2*1*PI+(NPI/4))/(rt)))))"
   ]
  },
  {
   "cell_type": "code",
   "execution_count": 57,
   "id": "patient-elimination",
   "metadata": {
    "scrolled": true
   },
   "outputs": [
    {
     "data": {
      "text/latex": [
       "$\\displaystyle w = \\sqrt[18]{2} \\left(i \\sin{\\left(\\frac{-π}{36} + \\frac{4 π}{9} \\right)} + \\cos{\\left(\\frac{-π}{36} + \\frac{4 π}{9} \\right)}\\right)$"
      ],
      "text/plain": [
       "    18___ ⎛     ⎛-π   4⋅π⎞      ⎛-π   4⋅π⎞⎞\n",
       "w = ╲╱ 2 ⋅⎜i⋅sin⎜── + ───⎟ + cos⎜── + ───⎟⎟\n",
       "          ⎝     ⎝36    9 ⎠      ⎝36    9 ⎠⎠"
      ]
     },
     "execution_count": 57,
     "metadata": {},
     "output_type": "execute_result"
    }
   ],
   "source": [
    "Eq(w, root(2, 2*rt)*((cos((2*2*PI+(NPI/4))/(rt)))+i*(sin((2*2*PI+(NPI/4))/(rt)))))"
   ]
  },
  {
   "cell_type": "code",
   "execution_count": 58,
   "id": "greek-movement",
   "metadata": {},
   "outputs": [
    {
     "data": {
      "text/latex": [
       "$\\displaystyle w = \\sqrt[18]{2} \\left(i \\sin{\\left(\\frac{-π}{36} + \\frac{2 π}{3} \\right)} + \\cos{\\left(\\frac{-π}{36} + \\frac{2 π}{3} \\right)}\\right)$"
      ],
      "text/plain": [
       "    18___ ⎛     ⎛-π   2⋅π⎞      ⎛-π   2⋅π⎞⎞\n",
       "w = ╲╱ 2 ⋅⎜i⋅sin⎜── + ───⎟ + cos⎜── + ───⎟⎟\n",
       "          ⎝     ⎝36    3 ⎠      ⎝36    3 ⎠⎠"
      ]
     },
     "execution_count": 58,
     "metadata": {},
     "output_type": "execute_result"
    }
   ],
   "source": [
    "Eq(w, root(2, 2*rt)*((cos((2*3*PI+(NPI/4))/(rt)))+i*(sin((2*3*PI+(NPI/4))/(rt)))))"
   ]
  },
  {
   "cell_type": "code",
   "execution_count": 59,
   "id": "unlike-communist",
   "metadata": {},
   "outputs": [
    {
     "data": {
      "text/latex": [
       "$\\displaystyle w = \\sqrt[18]{2} \\left(i \\sin{\\left(\\frac{-π}{36} + \\frac{8 π}{9} \\right)} + \\cos{\\left(\\frac{-π}{36} + \\frac{8 π}{9} \\right)}\\right)$"
      ],
      "text/plain": [
       "    18___ ⎛     ⎛-π   8⋅π⎞      ⎛-π   8⋅π⎞⎞\n",
       "w = ╲╱ 2 ⋅⎜i⋅sin⎜── + ───⎟ + cos⎜── + ───⎟⎟\n",
       "          ⎝     ⎝36    9 ⎠      ⎝36    9 ⎠⎠"
      ]
     },
     "execution_count": 59,
     "metadata": {},
     "output_type": "execute_result"
    }
   ],
   "source": [
    "Eq(w, root(2, 2*rt)*((cos((2*4*PI+(NPI/4))/(rt)))+i*(sin((2*4*PI+(NPI/4))/(rt)))))"
   ]
  },
  {
   "cell_type": "code",
   "execution_count": 60,
   "id": "broad-ordinance",
   "metadata": {},
   "outputs": [
    {
     "data": {
      "text/latex": [
       "$\\displaystyle w = \\sqrt[18]{2} \\left(i \\sin{\\left(\\frac{-π}{36} + \\frac{10 π}{9} \\right)} + \\cos{\\left(\\frac{-π}{36} + \\frac{10 π}{9} \\right)}\\right)$"
      ],
      "text/plain": [
       "    18___ ⎛     ⎛-π   10⋅π⎞      ⎛-π   10⋅π⎞⎞\n",
       "w = ╲╱ 2 ⋅⎜i⋅sin⎜── + ────⎟ + cos⎜── + ────⎟⎟\n",
       "          ⎝     ⎝36    9  ⎠      ⎝36    9  ⎠⎠"
      ]
     },
     "execution_count": 60,
     "metadata": {},
     "output_type": "execute_result"
    }
   ],
   "source": [
    "Eq(w, root(2, 2*rt)*((cos((2*5*PI+(NPI/4))/(rt)))+i*(sin((2*5*PI+(NPI/4))/(rt)))))"
   ]
  },
  {
   "cell_type": "code",
   "execution_count": 61,
   "id": "golden-limitation",
   "metadata": {},
   "outputs": [
    {
     "data": {
      "text/latex": [
       "$\\displaystyle w = \\sqrt[18]{2} \\left(i \\sin{\\left(\\frac{-π}{36} + \\frac{4 π}{3} \\right)} + \\cos{\\left(\\frac{-π}{36} + \\frac{4 π}{3} \\right)}\\right)$"
      ],
      "text/plain": [
       "    18___ ⎛     ⎛-π   4⋅π⎞      ⎛-π   4⋅π⎞⎞\n",
       "w = ╲╱ 2 ⋅⎜i⋅sin⎜── + ───⎟ + cos⎜── + ───⎟⎟\n",
       "          ⎝     ⎝36    3 ⎠      ⎝36    3 ⎠⎠"
      ]
     },
     "execution_count": 61,
     "metadata": {},
     "output_type": "execute_result"
    }
   ],
   "source": [
    "Eq(w, root(2, 2*rt)*((cos((2*6*PI+(NPI/4))/(rt)))+i*(sin((2*6*PI+(NPI/4))/(rt)))))"
   ]
  },
  {
   "cell_type": "code",
   "execution_count": 63,
   "id": "norwegian-mustang",
   "metadata": {},
   "outputs": [
    {
     "data": {
      "text/latex": [
       "$\\displaystyle w = \\sqrt[18]{2} \\left(i \\sin{\\left(\\frac{-π}{36} + \\frac{14 π}{9} \\right)} + \\cos{\\left(\\frac{-π}{36} + \\frac{14 π}{9} \\right)}\\right)$"
      ],
      "text/plain": [
       "    18___ ⎛     ⎛-π   14⋅π⎞      ⎛-π   14⋅π⎞⎞\n",
       "w = ╲╱ 2 ⋅⎜i⋅sin⎜── + ────⎟ + cos⎜── + ────⎟⎟\n",
       "          ⎝     ⎝36    9  ⎠      ⎝36    9  ⎠⎠"
      ]
     },
     "execution_count": 63,
     "metadata": {},
     "output_type": "execute_result"
    }
   ],
   "source": [
    "Eq(w, root(2, 2*rt)*((cos((2*7*PI+(NPI/4))/(rt)))+i*(sin((2*7*PI+(NPI/4))/(rt)))))"
   ]
  },
  {
   "cell_type": "code",
   "execution_count": 64,
   "id": "front-beauty",
   "metadata": {},
   "outputs": [
    {
     "data": {
      "text/latex": [
       "$\\displaystyle w = \\sqrt[18]{2} \\left(i \\sin{\\left(\\frac{-π}{36} + \\frac{16 π}{9} \\right)} + \\cos{\\left(\\frac{-π}{36} + \\frac{16 π}{9} \\right)}\\right)$"
      ],
      "text/plain": [
       "    18___ ⎛     ⎛-π   16⋅π⎞      ⎛-π   16⋅π⎞⎞\n",
       "w = ╲╱ 2 ⋅⎜i⋅sin⎜── + ────⎟ + cos⎜── + ────⎟⎟\n",
       "          ⎝     ⎝36    9  ⎠      ⎝36    9  ⎠⎠"
      ]
     },
     "execution_count": 64,
     "metadata": {},
     "output_type": "execute_result"
    }
   ],
   "source": [
    "Eq(w, root(2, 2*rt)*((cos((2*8*PI+(NPI/4))/(rt)))+i*(sin((2*8*PI+(NPI/4))/(rt)))))"
   ]
  }
 ],
 "metadata": {
  "kernelspec": {
   "display_name": "Python 3",
   "language": "python",
   "name": "python3"
  },
  "language_info": {
   "codemirror_mode": {
    "name": "ipython",
    "version": 3
   },
   "file_extension": ".py",
   "mimetype": "text/x-python",
   "name": "python",
   "nbconvert_exporter": "python",
   "pygments_lexer": "ipython3",
   "version": "3.8.10"
  }
 },
 "nbformat": 4,
 "nbformat_minor": 5
}
